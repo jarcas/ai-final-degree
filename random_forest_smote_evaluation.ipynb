{
 "cells": [
  {
   "cell_type": "markdown",
   "id": "0299bc74",
   "metadata": {},
   "source": [
    "## 🌲 Random Forest Classification with and without SMOTE\n",
    "\n",
    "This notebook evaluates the performance of a `RandomForestClassifier` on imbalanced network traffic data using two approaches:\n",
    "- Without any resampling\n",
    "- With **SMOTE** (Synthetic Minority Oversampling Technique) applied before training\n",
    "\n",
    "We compare their performance using classification metrics and confusion matrices.\n"
   ]
  },
  {
   "cell_type": "code",
   "execution_count": 1,
   "id": "6ea3fad1",
   "metadata": {},
   "outputs": [],
   "source": [
    "import pandas as pd\n",
    "import numpy as np\n",
    "from sklearn.model_selection import train_test_split, StratifiedKFold\n",
    "from sklearn.ensemble import RandomForestClassifier\n",
    "from sklearn.preprocessing import StandardScaler\n",
    "from sklearn.pipeline import Pipeline\n",
    "from sklearn.metrics import classification_report, confusion_matrix\n",
    "from imblearn.pipeline import Pipeline as ImbPipeline\n",
    "from imblearn.over_sampling import SMOTE\n"
   ]
  },
  {
   "cell_type": "markdown",
   "id": "2115106b",
   "metadata": {},
   "source": [
    "### 📂 Load dataset and create binary labels\n",
    "\n",
    "We load the CSV and generate a binary label:\n",
    "- `1` for any kind of cyberattack\n",
    "- `0` for normal traffic\n"
   ]
  },
  {
   "cell_type": "code",
   "execution_count": 2,
   "id": "b8622b0d",
   "metadata": {},
   "outputs": [],
   "source": [
    "filepath = \"20240625_Flooding_Heartbeat_filtered_ordered_OcppFlows_120_labelled.csv\"\n",
    "df = pd.read_csv(filepath)\n",
    "df['label_bin'] = df['label'].apply(lambda x: 1 if 'cyberattack' in str(x).lower() else 0)\n"
   ]
  },
  {
   "cell_type": "markdown",
   "id": "26b79dee",
   "metadata": {},
   "source": [
    "### 🧹 Drop non-numeric and irrelevant columns\n",
    "\n",
    "We remove flow identifiers, timestamps, IPs, and ports.\n"
   ]
  },
  {
   "cell_type": "code",
   "execution_count": 3,
   "id": "1078a0df",
   "metadata": {},
   "outputs": [],
   "source": [
    "columns_to_drop = ['flow_id', 'flow_start_timestamp', 'flow_end_timestamp',\n",
    "                   'src_ip', 'dst_ip', 'src_port', 'dst_port', 'label']\n",
    "X = df.drop(columns=columns_to_drop + ['label_bin'])\n",
    "y = df['label_bin']\n"
   ]
  },
  {
   "cell_type": "markdown",
   "id": "0fb24955",
   "metadata": {},
   "source": [
    "### 🔁 Define pipelines with and without SMOTE and prepare cross-validation\n"
   ]
  },
  {
   "cell_type": "code",
   "execution_count": 4,
   "id": "371166f4",
   "metadata": {},
   "outputs": [],
   "source": [
    "pipeline_no_smote = Pipeline([\n",
    "    ('scaler', StandardScaler()),\n",
    "    ('clf', RandomForestClassifier(random_state=13))\n",
    "])\n",
    "\n",
    "pipeline_smote = ImbPipeline([\n",
    "    ('smote', SMOTE(random_state=13)),\n",
    "    ('scaler', StandardScaler()),\n",
    "    ('clf', RandomForestClassifier(random_state=13))\n",
    "])\n",
    "\n",
    "cv = StratifiedKFold(n_splits=5, shuffle=True, random_state=13)\n",
    "cm_no_smote = np.zeros((2, 2), dtype=int)\n",
    "cm_smote = np.zeros((2, 2), dtype=int)\n"
   ]
  },
  {
   "cell_type": "markdown",
   "id": "183ae961",
   "metadata": {},
   "source": [
    "### ⚙️ Train and evaluate both pipelines with 5-fold cross-validation\n"
   ]
  },
  {
   "cell_type": "code",
   "execution_count": 5,
   "id": "e01452f1",
   "metadata": {},
   "outputs": [],
   "source": [
    "for train_idx, test_idx in cv.split(X, y):\n",
    "    X_train, X_test = X.iloc[train_idx], X.iloc[test_idx]\n",
    "    y_train, y_test = y.iloc[train_idx], y.iloc[test_idx]\n",
    "\n",
    "    # Without SMOTE\n",
    "    pipeline_no_smote.fit(X_train, y_train)\n",
    "    y_pred_no = pipeline_no_smote.predict(X_test)\n",
    "    cm_no_smote += confusion_matrix(y_test, y_pred_no, labels=[0, 1])\n",
    "\n",
    "    # With SMOTE\n",
    "    pipeline_smote.fit(X_train, y_train)\n",
    "    y_pred_smote = pipeline_smote.predict(X_test)\n",
    "    cm_smote += confusion_matrix(y_test, y_pred_smote, labels=[0, 1])\n"
   ]
  },
  {
   "cell_type": "markdown",
   "id": "b7be93d9",
   "metadata": {},
   "source": [
    "### 📊 Display cumulative confusion matrices\n"
   ]
  },
  {
   "cell_type": "code",
   "execution_count": 6,
   "id": "b4fff708",
   "metadata": {},
   "outputs": [
    {
     "name": "stdout",
     "output_type": "stream",
     "text": [
      "Confusion matrix WITHOUT SMOTE (Random Forest):\n",
      "[[  87    0]\n",
      " [   0 8700]]\n",
      "\n",
      "Confusion matrix WITH SMOTE (Random Forest):\n",
      "[[  87    0]\n",
      " [   0 8700]]\n"
     ]
    }
   ],
   "source": [
    "print(\"Confusion matrix WITHOUT SMOTE (Random Forest):\")\n",
    "print(cm_no_smote)\n",
    "\n",
    "print(\"\\nConfusion matrix WITH SMOTE (Random Forest):\")\n",
    "print(cm_smote)\n"
   ]
  }
 ],
 "metadata": {
  "kernelspec": {
   "display_name": "venv-tfm",
   "language": "python",
   "name": "python3"
  },
  "language_info": {
   "codemirror_mode": {
    "name": "ipython",
    "version": 3
   },
   "file_extension": ".py",
   "mimetype": "text/x-python",
   "name": "python",
   "nbconvert_exporter": "python",
   "pygments_lexer": "ipython3",
   "version": "3.12.3"
  }
 },
 "nbformat": 4,
 "nbformat_minor": 5
}
