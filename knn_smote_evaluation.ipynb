{
 "cells": [
  {
   "cell_type": "markdown",
   "id": "3294f777",
   "metadata": {},
   "source": [
    "## 🧪 K-Nearest Neighbors with and without SMOTE\n",
    "\n",
    "This notebook evaluates the performance of a K-Nearest Neighbors (KNN) classifier applied to a binary classification problem derived from a labeled network dataset.\n",
    "\n",
    "We compare two versions of the model:\n",
    "- Without any resampling\n",
    "- With **SMOTE** (Synthetic Minority Over-sampling Technique) applied before training\n",
    "\n",
    "Stratified 5-fold cross-validation is used to compute cumulative confusion matrices for both pipelines.\n"
   ]
  },
  {
   "cell_type": "code",
   "execution_count": 1,
   "id": "f3b7fe78",
   "metadata": {},
   "outputs": [],
   "source": [
    "import pandas as pd\n",
    "import numpy as np\n",
    "from sklearn.model_selection import StratifiedKFold\n",
    "from sklearn.neighbors import KNeighborsClassifier\n",
    "from sklearn.preprocessing import StandardScaler\n",
    "from sklearn.pipeline import Pipeline\n",
    "from sklearn.metrics import confusion_matrix\n",
    "from imblearn.pipeline import Pipeline as ImbPipeline\n",
    "from imblearn.over_sampling import SMOTE\n"
   ]
  },
  {
   "cell_type": "markdown",
   "id": "c64e3d2a",
   "metadata": {},
   "source": [
    "### 📂 Load dataset and define binary target\n",
    "\n",
    "We load the CSV file and create a binary column `label_bin`:\n",
    "- 1 for any type of cyberattack\n",
    "- 0 for normal traffic\n"
   ]
  },
  {
   "cell_type": "code",
   "execution_count": 2,
   "id": "13562047",
   "metadata": {},
   "outputs": [],
   "source": [
    "df = pd.read_csv(\"20240625_Flooding_Heartbeat_filtered_ordered_OcppFlows_120_labelled.csv\")\n",
    "df['label_bin'] = df['label'].apply(lambda x: 1 if 'cyberattack' in str(x).lower() else 0)\n"
   ]
  },
  {
   "cell_type": "markdown",
   "id": "db6481d6",
   "metadata": {},
   "source": [
    "### 🧹 Drop non-numeric and irrelevant columns\n",
    "\n",
    "We remove identifiers, timestamps, IP addresses, and ports.\n"
   ]
  },
  {
   "cell_type": "code",
   "execution_count": 3,
   "id": "4d3508e5",
   "metadata": {},
   "outputs": [],
   "source": [
    "columns_to_drop = ['flow_id', 'flow_start_timestamp', 'flow_end_timestamp',\n",
    "                   'src_ip', 'dst_ip', 'src_port', 'dst_port', 'label']\n",
    "X = df.drop(columns=columns_to_drop + ['label_bin'])\n",
    "y = df['label_bin']\n"
   ]
  },
  {
   "cell_type": "markdown",
   "id": "5b0db595",
   "metadata": {},
   "source": [
    "### ⚙️ Define pipelines with and without SMOTE\n"
   ]
  },
  {
   "cell_type": "code",
   "execution_count": null,
   "id": "5a9328a1",
   "metadata": {},
   "outputs": [],
   "source": [
    "pipeline_no_smote = Pipeline([\n",
    "    ('scaler', StandardScaler()),\n",
    "    ('clf', KNeighborsClassifier())\n",
    "])\n",
    "\n",
    "pipeline_smote = ImbPipeline([\n",
    "    ('smote', SMOTE(random_state=13)),\n",
    "    ('scaler', StandardScaler()),\n",
    "    ('clf', KNeighborsClassifier())\n",
    "])\n"
   ]
  },
  {
   "cell_type": "markdown",
   "id": "4e985015",
   "metadata": {},
   "source": [
    "### 🔁 Run stratified 5-fold cross-validation\n",
    "\n",
    "We compute cumulative confusion matrices for both pipelines.\n"
   ]
  },
  {
   "cell_type": "code",
   "execution_count": null,
   "id": "a4d68d81",
   "metadata": {},
   "outputs": [],
   "source": [
    "cv = StratifiedKFold(n_splits=5, shuffle=True, random_state=13)\n",
    "cm_no_smote = np.zeros((2, 2), dtype=int)\n",
    "cm_smote = np.zeros((2, 2), dtype=int)\n",
    "\n",
    "for train_idx, test_idx in cv.split(X, y):\n",
    "    X_train, X_test = X.iloc[train_idx], X.iloc[test_idx]\n",
    "    y_train, y_test = y.iloc[train_idx], y.iloc[test_idx]\n",
    "\n",
    "    # Without SMOTE\n",
    "    pipeline_no_smote.fit(X_train, y_train)\n",
    "    y_pred_no = pipeline_no_smote.predict(X_test)\n",
    "    cm_no_smote += confusion_matrix(y_test, y_pred_no, labels=[0, 1])\n",
    "\n",
    "    # With SMOTE\n",
    "    pipeline_smote.fit(X_train, y_train)\n",
    "    y_pred_smote = pipeline_smote.predict(X_test)\n",
    "    cm_smote += confusion_matrix(y_test, y_pred_smote, labels=[0, 1])\n"
   ]
  },
  {
   "cell_type": "markdown",
   "id": "49ec2d8a",
   "metadata": {},
   "source": [
    "### 📊 Cumulative confusion matrices\n"
   ]
  },
  {
   "cell_type": "code",
   "execution_count": 6,
   "id": "cf25e267",
   "metadata": {},
   "outputs": [
    {
     "name": "stdout",
     "output_type": "stream",
     "text": [
      "Cumulative confusion matrix WITHOUT SMOTE (KNN):\n",
      "[[  87    0]\n",
      " [   0 8700]]\n",
      "\n",
      "Cumulative confusion matrix WITH SMOTE (KNN):\n",
      "[[  87    0]\n",
      " [   0 8700]]\n"
     ]
    }
   ],
   "source": [
    "print(\"Cumulative confusion matrix WITHOUT SMOTE (KNN):\")\n",
    "print(cm_no_smote)\n",
    "\n",
    "print(\"\\nCumulative confusion matrix WITH SMOTE (KNN):\")\n",
    "print(cm_smote)\n"
   ]
  }
 ],
 "metadata": {
  "kernelspec": {
   "display_name": "venv-tfm",
   "language": "python",
   "name": "python3"
  },
  "language_info": {
   "codemirror_mode": {
    "name": "ipython",
    "version": 3
   },
   "file_extension": ".py",
   "mimetype": "text/x-python",
   "name": "python",
   "nbconvert_exporter": "python",
   "pygments_lexer": "ipython3",
   "version": "3.12.3"
  }
 },
 "nbformat": 4,
 "nbformat_minor": 5
}
