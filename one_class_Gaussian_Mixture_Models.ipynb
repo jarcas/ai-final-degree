{
 "cells": [
  {
   "cell_type": "markdown",
   "id": "283e6e54",
   "metadata": {},
   "source": [
    "## 🧪 Anomaly Detection using Gaussian Mixture Models (GMM)\n",
    "\n",
    "In this notebook, we explore an unsupervised anomaly detection approach using **Gaussian Mixture Models (GMM)**.  \n",
    "The goal is to detect legitimate traffic (normal behavior) as outliers, having trained the model exclusively on malicious traffic (attacks).\n",
    "\n",
    "This setup reflects a realistic intrusion detection scenario where only attack data is available during training.  \n",
    "The model learns the underlying distribution of the attack class, and any deviation from it is treated as an anomaly.\n",
    "\n",
    "### 🎯 Objective\n",
    "\n",
    "- Train a GMM using only attack samples.\n",
    "- Evaluate the model on a test set containing:\n",
    "  - Unseen attacks (positive class)\n",
    "  - All available normal traffic (to be detected as anomalies)\n",
    "\n",
    "### ⚙️ Method\n",
    "\n",
    "- Use `sklearn.mixture.GaussianMixture` to learn the probabilistic distribution of attack flows.\n",
    "- Score test samples using the log-likelihood under the learned model.\n",
    "- Apply a threshold to the log-likelihood to classify samples as attack (inlier) or normal (outlier).\n",
    "- Evaluate performance using precision, recall, F1-score, ROC AUC, and confusion matrix.\n",
    "\n",
    "This approach is well-suited for highly imbalanced datasets where the minority class (normal traffic) is rare or partially labeled."
   ]
  },
  {
   "cell_type": "markdown",
   "id": "84de7c49",
   "metadata": {},
   "source": [
    "### 📦 Import libraries and configure environment\n",
    "\n",
    "We import the necessary libraries for data handling, modeling with Gaussian Mixture Models (GMM), and evaluation."
   ]
  },
  {
   "cell_type": "code",
   "execution_count": 1,
   "id": "c0322f35",
   "metadata": {},
   "outputs": [],
   "source": [
    "import pandas as pd\n",
    "import numpy as np\n",
    "import matplotlib.pyplot as plt\n",
    "import seaborn as sns\n",
    "\n",
    "from sklearn.mixture import GaussianMixture\n",
    "from sklearn.metrics import classification_report, confusion_matrix, roc_auc_score, roc_curve, auc\n",
    "from sklearn.model_selection import train_test_split\n",
    "\n",
    "sns.set(style=\"whitegrid\")"
   ]
  },
  {
   "cell_type": "markdown",
   "id": "0d7075fa",
   "metadata": {},
   "source": [
    "### 📂 Load and prepare the dataset\n",
    "\n",
    "We load the CSV file and prepare the data by:\n",
    "- Converting the `label` column to a binary variable (`1` = attack, `0` = normal).\n",
    "- Dropping irrelevant columns such as timestamps, IPs, and ports."
   ]
  },
  {
   "cell_type": "code",
   "execution_count": 2,
   "id": "90fccab1",
   "metadata": {},
   "outputs": [
    {
     "name": "stdout",
     "output_type": "stream",
     "text": [
      "Feature matrix shape: (8787, 48)\n",
      "Label distribution:\n",
      " label\n",
      "1    8700\n",
      "0      87\n",
      "Name: count, dtype: int64\n"
     ]
    }
   ],
   "source": [
    "# Load dataset\n",
    "df = pd.read_csv(\"20240625_Flooding_Heartbeat_filtered_ordered_OcppFlows_120_labelled.csv\")\n",
    "\n",
    "# Convert label to binary: 1 = attack, 0 = normal\n",
    "y = df['label'].apply(lambda x: 1 if x == 'cyberattack_ocpp16_dos_flooding_heartbeat' else 0)\n",
    "\n",
    "# Drop irrelevant columns\n",
    "columns_to_drop = ['flow_id', 'flow_start_timestamp', 'flow_end_timestamp', 'src_ip', 'dst_ip', 'src_port', 'dst_port', 'label']\n",
    "\n",
    "X = df.drop(columns=columns_to_drop)\n",
    "\n",
    "# Check shapes and distribution\n",
    "print(\"Feature matrix shape:\", X.shape)\n",
    "print(\"Label distribution:\\n\", y.value_counts())"
   ]
  },
  {
   "cell_type": "markdown",
   "id": "a4edfe51",
   "metadata": {},
   "source": [
    "### 🧪 Split data into training and test sets\n",
    "\n",
    "We train the Gaussian Mixture Model only on attack samples (`y = 1`).  \n",
    "The test set includes:\n",
    "- 20% of unseen attack samples\n",
    "- 100% of normal traffic\n",
    "\n",
    "This allows us to evaluate how well the model distinguishes between known attack behavior and previously unseen normal traffic."
   ]
  },
  {
   "cell_type": "code",
   "execution_count": null,
   "id": "ff316749",
   "metadata": {},
   "outputs": [],
   "source": [
    "# Separate attack and normal samples\n",
    "X_attack = X[y == 1]\n",
    "X_legit = X[y == 0]\n",
    "\n",
    "# Split attack samples: 80% for training, 20% for testing\n",
    "X_train, X_test_attack = train_test_split(X_attack, test_size=0.2, random_state=13)\n",
    "\n",
    "# Use all normal samples for test\n",
    "X_test_legit = X_legit.copy()\n",
    "\n",
    "# Combine test set\n",
    "X_test = pd.concat([X_test_attack, X_test_legit])\n",
    "y_test = [1] * len(X_test_attack) + [0] * len(X_test_legit)\n",
    "\n",
    "# Confirm shapes\n",
    "print(\"Training set (attacks only):\", X_train.shape)\n",
    "print(\"Test set (attacks + normal):\", X_test.shape)\n",
    "print(\"Test label distribution:\", pd.Series(y_test).value_counts())"
   ]
  },
  {
   "cell_type": "markdown",
   "id": "2d7b9aa6",
   "metadata": {},
   "source": [
    "### 🧠 Train the Gaussian Mixture Model (GMM)\n",
    "\n",
    "We train a `GaussianMixture` model using only attack samples.  \n",
    "This model learns the probability distribution of the attack traffic.  \n",
    "Later, we will use the log-likelihood scores of the test samples to detect outliers (normal traffic)."
   ]
  },
  {
   "cell_type": "code",
   "execution_count": null,
   "id": "04adaed7",
   "metadata": {},
   "outputs": [],
   "source": [
    "# Initialize and train the GMM\n",
    "gmm = GaussianMixture(n_components=1, covariance_type='full', random_state=13)\n",
    "gmm.fit(X_train)\n",
    "\n",
    "print(\"GMM trained on attack samples only.\")"
   ]
  },
  {
   "cell_type": "markdown",
   "id": "0ad7b879",
   "metadata": {},
   "source": [
    "### 📉 Score test samples and apply threshold\n",
    "\n",
    "We compute the log-likelihood of each test sample using the trained GMM.  \n",
    "To classify samples, we define a threshold on the log-score:\n",
    "\n",
    "- Samples with log-likelihood **above the threshold** are considered **attacks** (inliers).\n",
    "- Samples with log-likelihood **below the threshold** are considered **normal traffic** (anomalies).\n",
    "\n",
    "We compute the threshold as the **5th percentile** of the log-scores on the training (attack) data.\n",
    "This means that roughly 95% of known attacks will be retained as inliers."
   ]
  },
  {
   "cell_type": "code",
   "execution_count": null,
   "id": "f58cb556",
   "metadata": {},
   "outputs": [],
   "source": [
    "# Get log-likelihoods for training (to define threshold)\n",
    "train_scores = gmm.score_samples(X_train)\n",
    "threshold = np.percentile(train_scores, 5)  # 5th percentile\n",
    "\n",
    "# Get log-likelihoods for test samples\n",
    "test_scores = gmm.score_samples(X_test)\n",
    "\n",
    "# Predict: 1 = attack (log-score above threshold), 0 = normal (below threshold)\n",
    "y_pred = [1 if s > threshold else 0 for s in test_scores]\n",
    "\n",
    "# Show threshold value\n",
    "print(f\"Log-likelihood threshold (5th percentile of training data): {threshold:.2f}\")"
   ]
  },
  {
   "cell_type": "markdown",
   "id": "52200c5d",
   "metadata": {},
   "source": [
    "### 📊 Evaluate classification performance\n",
    "\n",
    "We evaluate the predictions made by the GMM using standard classification metrics:\n",
    "- Precision, Recall, F1-score\n",
    "- Confusion Matrix\n",
    "- ROC AUC Score\n",
    "\n",
    "This shows how well the GMM identifies normal traffic as anomalies, and retains attack samples as inliers."
   ]
  },
  {
   "cell_type": "code",
   "execution_count": null,
   "id": "c85f3371",
   "metadata": {},
   "outputs": [],
   "source": [
    "# Convert y_test to Series for consistency\n",
    "y_test_series = pd.Series(y_test)\n",
    "\n",
    "# Classification report\n",
    "print(\"=== Classification Report ===\")\n",
    "print(classification_report(y_test_series, y_pred, target_names=[\"Normal\", \"Attack\"]))\n",
    "\n",
    "# Confusion matrix\n",
    "print(\"=== Confusion Matrix ===\")\n",
    "print(confusion_matrix(y_test_series, y_pred))\n",
    "\n",
    "# ROC AUC\n",
    "roc_score = roc_auc_score(y_test_series, test_scores)\n",
    "print(f\"ROC AUC Score (using log-likelihoods): {roc_score:.4f}\")"
   ]
  },
  {
   "cell_type": "markdown",
   "id": "706b45c7",
   "metadata": {},
   "source": [
    "### 📈 Visualize ROC curve and Confusion Matrix\n",
    "\n",
    "We plot:\n",
    "- The ROC Curve using the log-likelihood scores to evaluate the model’s ability to separate attacks and normal traffic.\n",
    "- The Confusion Matrix to visualize correct and incorrect classifications.\n",
    "\n",
    "The ROC curve gives a threshold-independent view of performance, while the confusion matrix shows the final decision quality based on the chosen threshold."
   ]
  },
  {
   "cell_type": "code",
   "execution_count": null,
   "id": "132f53e6",
   "metadata": {},
   "outputs": [],
   "source": [
    "# ROC Curve\n",
    "fpr, tpr, thresholds = roc_curve(y_test_series, test_scores)\n",
    "roc_auc = auc(fpr, tpr)\n",
    "\n",
    "plt.figure(figsize=(8, 6))\n",
    "plt.plot(fpr, tpr, label=f\"ROC Curve (AUC = {roc_auc:.2f})\", linewidth=2)\n",
    "plt.plot([0, 1], [0, 1], 'k--', label=\"Random classifier\")\n",
    "plt.xlabel(\"False Positive Rate\")\n",
    "plt.ylabel(\"True Positive Rate\")\n",
    "plt.title(\"ROC Curve – Gaussian Mixture Model\")\n",
    "plt.legend()\n",
    "plt.grid(True)\n",
    "plt.show()\n",
    "\n",
    "# Confusion matrix heatmap\n",
    "cm = confusion_matrix(y_test_series, y_pred)\n",
    "plt.figure(figsize=(6, 5))\n",
    "sns.heatmap(cm, annot=True, fmt='d', cmap='Blues',\n",
    "            xticklabels=['Predicted Normal', 'Predicted Attack'],\n",
    "            yticklabels=['Actual Normal', 'Actual Attack'])\n",
    "plt.ylabel(\"True label\")\n",
    "plt.xlabel(\"Predicted label\")\n",
    "plt.title(\"Confusion Matrix – Gaussian Mixture Model\")\n",
    "plt.show()\n"
   ]
  },
  {
   "cell_type": "markdown",
   "id": "789b5fbb",
   "metadata": {},
   "source": [
    "### ✅ Gaussian Mixture Model – Performance Analysis\n",
    "\n",
    "We evaluated the GMM-based anomaly detector by training it exclusively on attack samples  \n",
    "and testing it on both unseen attacks and normal traffic.\n",
    "\n",
    "#### 📊 Interpretation of Results:\n",
    "\n",
    "- **Log-likelihood threshold**: defined as the 5th percentile of the log-scores on the training (attack) data.\n",
    "- **Prediction rule**:\n",
    "  - If log-score > threshold → classified as **Attack**\n",
    "  - Else → classified as **Normal (anomaly)**\n",
    "\n",
    "#### 📋 Key Metrics:\n",
    "- **Precision (Attack class)**: High precision indicates few false positives (normal samples mistakenly classified as attack).\n",
    "- **Recall (Attack class)**: Measures the ability to correctly identify attack traffic.\n",
    "- **F1-score**: Balance between precision and recall.\n",
    "- **ROC AUC**: Evaluates how well the model separates the two classes across all thresholds.\n",
    "\n",
    "#### 🧠 Model Behavior:\n",
    "- If **recall is high**, the model detects most attacks.\n",
    "- If **precision is low**, it triggers many false alarms.\n",
    "- If **ROC AUC is high**, the model is good at ranking attacks above legitimate flows, regardless of threshold.\n",
    "\n",
    "#### 📌 Conclusion:\n",
    "\n",
    "The GMM approach is effective for modeling attack behavior and identifying deviations (i.e., normal traffic).  \n",
    "The choice of threshold is critical and can be tuned further to balance false negatives and false positives depending on the use case (e.g., security sensitivity vs. alert fatigue).\n",
    "\n",
    "This method complements One-Class SVM and is especially valuable in highly imbalanced or partially labeled datasets."
   ]
  },
  {
   "cell_type": "markdown",
   "id": "802d3d05",
   "metadata": {},
   "source": [
    "### ✅ Gaussian Mixture Model – Final Performance Analysis\n",
    "\n",
    "#### 📊 Classification Summary:\n",
    "\n",
    "| Class      | Precision | Recall | F1-score | Support |\n",
    "|------------|-----------|--------|----------|---------|\n",
    "| **Normal** | 0.51      | 1.00   | 0.68     | 87      |\n",
    "| **Attack** | 1.00      | 0.95   | 0.98     | 1740    |\n",
    "| **Accuracy**         | –         | –       | **0.96** | 1827    |\n",
    "| **ROC AUC (log-scores)** | –     | –       | **1.00** |         |\n",
    "\n",
    "#### 📌 Confusion Matrix:\n",
    "\n",
    "|                         | Predicted Normal | Predicted Attack |\n",
    "|-------------------------|------------------|------------------|\n",
    "| **Actual Normal**       | 87 (True Negative) | 0 (False Positive) |\n",
    "| **Actual Attack**       | 82 (False Negative) | 1658 (True Positive) |\n",
    "\n",
    "---\n",
    "\n",
    "#### 🧠 Interpretation\n",
    "\n",
    "- ✅ **All normal traffic** was correctly flagged as anomalies (100% recall, 0% false positives).\n",
    "- ✅ **High recall on attacks**: 95% of attack samples correctly identified.\n",
    "- ⚠️ **Moderate precision on normal class (0.51)** due to missed attacks.\n",
    "- ✅ **Perfect ROC AUC (1.00)**: the model perfectly ranks all normal samples below all attacks in log-likelihood space.\n",
    "\n",
    "The use of the **5th percentile threshold** on the log-scores of attack samples proved to be extremely effective for separating attack and normal traffic in this dataset.\n",
    "\n",
    "This result confirms that GMM is a powerful model for one-class anomaly detection when the majority class is well-defined and clean."
   ]
  },
  {
   "cell_type": "markdown",
   "id": "b45d851c",
   "metadata": {},
   "source": [
    "### 📊 Final Comparative Results: One-Class SVM vs Gaussian Mixture Model (GMM)\n",
    "\n",
    "This table compares the performance of both models after hyperparameter tuning, using identical train/test splits.\n",
    "\n",
    "| Metric                    | One-Class SVM       | Gaussian Mixture Model |\n",
    "|---------------------------|---------------------|-------------------------|\n",
    "| **Precision (Normal)**    | 0.46                | 0.51                    |\n",
    "| **Recall (Normal)**       | 0.94                | 1.00                    |\n",
    "| **F1-score (Normal)**     | 0.62                | 0.68                    |\n",
    "| **Precision (Attack)**    | 1.00                | 1.00                    |\n",
    "| **Recall (Attack)**       | 0.95                | 0.95                    |\n",
    "| **F1-score (Attack)**     | 0.97                | 0.98                    |\n",
    "| **Overall Accuracy**      | 0.95                | 0.96                    |\n",
    "| **ROC AUC**               | 0.944               | **1.000**               |\n",
    "\n",
    "---\n",
    "\n",
    "### 🧠 Insights:\n",
    "\n",
    "- ✅ Both models achieve **very high precision** for attacks and excellent overall accuracy.\n",
    "- ✅ **GMM** has a **higher recall and F1-score** for the normal class, meaning it is better at detecting legitimate traffic as anomalous.\n",
    "- ⚖️ Both models show **balanced recall for attacks** (`0.95`), but GMM slightly improves the **F1-score**.\n",
    "- ✅ **ROC AUC is perfect (1.0) in GMM**, indicating ideal separation capability.\n",
    "\n",
    "**Conclusion:**  \n",
    "While One-Class SVM performs very well after tuning, the **Gaussian Mixture Model offers slightly better overall detection**, particularly for the legitimate traffic class and in terms of ranking ability."
   ]
  }
 ],
 "metadata": {
  "kernelspec": {
   "display_name": "venv-tfm",
   "language": "python",
   "name": "python3"
  },
  "language_info": {
   "codemirror_mode": {
    "name": "ipython",
    "version": 3
   },
   "file_extension": ".py",
   "mimetype": "text/x-python",
   "name": "python",
   "nbconvert_exporter": "python",
   "pygments_lexer": "ipython3",
   "version": "3.12.3"
  }
 },
 "nbformat": 4,
 "nbformat_minor": 5
}
