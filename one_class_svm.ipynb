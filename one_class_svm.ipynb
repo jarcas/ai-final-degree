{
 "cells": [
  {
   "cell_type": "markdown",
   "id": "266bf693",
   "metadata": {},
   "source": [
    "## 📝 Attack Detection using One-Class Support Vector Machine (One-Class SVM)\n",
    "\n",
    "In this notebook, we address the problem of detecting malicious traffic in a network context with a severe class imbalance. Since most of the available data corresponds to attacks, we apply an unsupervised classification technique: **One-Class SVM**.\n",
    "\n",
    "Unlike traditional supervised methods, One-Class SVM learns to model the distribution of a single class — in this case, the majority class representing **attack traffic**. Any observation that does not fit the learned pattern is then treated as an **anomaly**, which in this context corresponds to **legitimate traffic**.\n",
    "\n",
    "### 🎯 Objective\n",
    "\n",
    "Train a model using only attack examples, and use it to detect patterns that do not match the expected behavior (i.e., legitimate traffic) as anomalies.\n",
    "\n",
    "### 🧪 Procedure\n",
    "\n",
    "1. **Split the dataset**:\n",
    "   - Use only attack examples to train the model.\n",
    "   - Create a test set composed of:\n",
    "     - An unseen subset of attack examples.\n",
    "     - All examples of legitimate traffic.\n",
    "\n",
    "2. **Train the One-Class SVM model** using `sklearn.svm.OneClassSVM`.\n",
    "\n",
    "3. **Evaluate the model** on the test set, measuring its ability to distinguish between attack traffic and legitimate traffic not seen during training.\n",
    "\n",
    "4. **Compute performance metrics** such as Accuracy, Precision, Recall, F1-score, and ROC AUC.\n",
    "\n",
    "This approach is especially useful in cybersecurity contexts, where only malicious activity examples may be available, and the goal is to detect any behavior that deviates from the learned pattern."
   ]
  },
  {
   "cell_type": "code",
   "execution_count": 1,
   "id": "ad58b29f",
   "metadata": {},
   "outputs": [],
   "source": [
    "# Data manipulation\n",
    "import pandas as pd\n",
    "import numpy as np\n",
    "\n",
    "# One-Class SVM model\n",
    "from sklearn.svm import OneClassSVM\n",
    "\n",
    "# Evaluation metrics\n",
    "from sklearn.metrics import classification_report, confusion_matrix, roc_auc_score, roc_curve, auc, f1_score\n",
    "\n",
    "# For splitting and shuffling the data\n",
    "from sklearn.model_selection import train_test_split\n",
    "\n",
    "# Optional visualization\n",
    "import matplotlib.pyplot as plt\n",
    "import seaborn as sns\n",
    "\n",
    "# General plot settings\n",
    "sns.set_theme(style=\"whitegrid\")\n"
   ]
  },
  {
   "cell_type": "code",
   "execution_count": 2,
   "id": "ce78b7af",
   "metadata": {},
   "outputs": [
    {
     "name": "stdout",
     "output_type": "stream",
     "text": [
      "Dataset dimension: (8787, 56)\n"
     ]
    },
    {
     "data": {
      "application/vnd.microsoft.datawrangler.viewer.v0+json": {
       "columns": [
        {
         "name": "index",
         "rawType": "int64",
         "type": "integer"
        },
        {
         "name": "index",
         "rawType": "int64",
         "type": "integer"
        },
        {
         "name": "flow_id",
         "rawType": "object",
         "type": "string"
        },
        {
         "name": "src_ip",
         "rawType": "object",
         "type": "string"
        },
        {
         "name": "dst_ip",
         "rawType": "object",
         "type": "string"
        },
        {
         "name": "src_port",
         "rawType": "int64",
         "type": "integer"
        },
        {
         "name": "dst_port",
         "rawType": "int64",
         "type": "integer"
        },
        {
         "name": "total_flow_packets",
         "rawType": "int64",
         "type": "integer"
        },
        {
         "name": "total_fw_packets",
         "rawType": "int64",
         "type": "integer"
        },
        {
         "name": "total_bw_packets",
         "rawType": "int64",
         "type": "integer"
        },
        {
         "name": "flow_duration",
         "rawType": "float64",
         "type": "float"
        },
        {
         "name": "flow_down_up_ratio",
         "rawType": "float64",
         "type": "float"
        },
        {
         "name": "flow_total_SYN_flag",
         "rawType": "int64",
         "type": "integer"
        },
        {
         "name": "flow_total_RST_flag",
         "rawType": "int64",
         "type": "integer"
        },
        {
         "name": "flow_total_PSH_flag",
         "rawType": "int64",
         "type": "integer"
        },
        {
         "name": "flow_total_ACK_flag",
         "rawType": "int64",
         "type": "integer"
        },
        {
         "name": "flow_total_URG_flag",
         "rawType": "int64",
         "type": "integer"
        },
        {
         "name": "flow_total_CWE_flag",
         "rawType": "int64",
         "type": "integer"
        },
        {
         "name": "flow_total_ECE_flag",
         "rawType": "int64",
         "type": "integer"
        },
        {
         "name": "flow_total_FIN_flag",
         "rawType": "int64",
         "type": "integer"
        },
        {
         "name": "flow_start_timestamp",
         "rawType": "float64",
         "type": "float"
        },
        {
         "name": "flow_end_timestamp",
         "rawType": "float64",
         "type": "float"
        },
        {
         "name": "flow_total_http_get_packets",
         "rawType": "int64",
         "type": "integer"
        },
        {
         "name": "flow_total_http_2xx_packets",
         "rawType": "int64",
         "type": "integer"
        },
        {
         "name": "flow_total_http_4xx_packets",
         "rawType": "int64",
         "type": "integer"
        },
        {
         "name": "flow_total_http_5xx_packets",
         "rawType": "int64",
         "type": "integer"
        },
        {
         "name": "flow_websocket_packts_per_second",
         "rawType": "float64",
         "type": "float"
        },
        {
         "name": "fw_websocket_packts_per_second",
         "rawType": "float64",
         "type": "float"
        },
        {
         "name": "bw_websocket_packts_per_second",
         "rawType": "float64",
         "type": "float"
        },
        {
         "name": "flow_websocket_bytes_per_second",
         "rawType": "float64",
         "type": "float"
        },
        {
         "name": "fw_websocket_bytes_per_second",
         "rawType": "float64",
         "type": "float"
        },
        {
         "name": "bw_websocket_bytes_per_second",
         "rawType": "float64",
         "type": "float"
        },
        {
         "name": "flow_total_websocket_ping_packets",
         "rawType": "int64",
         "type": "integer"
        },
        {
         "name": "flow_total_websocket_pong_packets",
         "rawType": "int64",
         "type": "integer"
        },
        {
         "name": "flow_total_websocket_close_packets",
         "rawType": "int64",
         "type": "integer"
        },
        {
         "name": "flow_total_websocket_data_messages",
         "rawType": "int64",
         "type": "integer"
        },
        {
         "name": "flow_total_ocpp16_heartbeat_packets",
         "rawType": "int64",
         "type": "integer"
        },
        {
         "name": "flow_total_ocpp16_resetHard_packets",
         "rawType": "int64",
         "type": "integer"
        },
        {
         "name": "flow_total_ocpp16_resetSoft_packets",
         "rawType": "int64",
         "type": "integer"
        },
        {
         "name": "flow_total_ocpp16_unlockconnector_packets",
         "rawType": "int64",
         "type": "integer"
        },
        {
         "name": "flow_total_ocpp16_starttransaction_packets",
         "rawType": "int64",
         "type": "integer"
        },
        {
         "name": "flow_total_ocpp16_remotestarttransaction_packets",
         "rawType": "int64",
         "type": "integer"
        },
        {
         "name": "flow_total_ocpp16_authorize_not_accepted_packets",
         "rawType": "int64",
         "type": "integer"
        },
        {
         "name": "flow_total_ocpp16_setchargingprofile_packets",
         "rawType": "int64",
         "type": "integer"
        },
        {
         "name": "flow_avg_ocpp16_setchargingprofile_limit",
         "rawType": "int64",
         "type": "integer"
        },
        {
         "name": "flow_max_ocpp16_setchargingprofile_limit",
         "rawType": "int64",
         "type": "integer"
        },
        {
         "name": "flow_min_ocpp16_setchargingprofile_limit",
         "rawType": "int64",
         "type": "integer"
        },
        {
         "name": "flow_avg_ocpp16_setchargingprofile_minchargingrate",
         "rawType": "int64",
         "type": "integer"
        },
        {
         "name": "flow_min_ocpp16_setchargingprofile_minchargingrate",
         "rawType": "int64",
         "type": "integer"
        },
        {
         "name": "flow_max_ocpp16_setchargingprofile_minchargingrate",
         "rawType": "int64",
         "type": "integer"
        },
        {
         "name": "flow_total_ocpp16_metervalues",
         "rawType": "int64",
         "type": "integer"
        },
        {
         "name": "flow_min_ocpp16_metervalues_soc",
         "rawType": "int64",
         "type": "integer"
        },
        {
         "name": "flow_max_ocpp16_metervalues_soc",
         "rawType": "int64",
         "type": "integer"
        },
        {
         "name": "flow_avg_ocpp16_metervalues_wh_diff",
         "rawType": "int64",
         "type": "integer"
        },
        {
         "name": "flow_max_ocpp16_metervalues_wh_diff",
         "rawType": "int64",
         "type": "integer"
        },
        {
         "name": "flow_min_ocpp16_metervalues_wh_diff",
         "rawType": "int64",
         "type": "integer"
        },
        {
         "name": "label",
         "rawType": "object",
         "type": "string"
        }
       ],
       "ref": "7f2edf2e-00dd-4924-8f9c-60f2f3a5713f",
       "rows": [
        [
         "0",
         "0",
         "192.168.21.70-192.168.21.225-80-41424",
         "192.168.21.70",
         "192.168.21.225",
         "80",
         "41424",
         "1718",
         "767",
         "951",
         "119785385.0",
         "1.239895697522816",
         "0",
         "0",
         "957",
         "1718",
         "0",
         "0",
         "0",
         "0",
         "1719312003042388.0",
         "1719312122827773.0",
         "0",
         "0",
         "0",
         "0",
         "7.9892885096e-06",
         "3.9988183867e-06",
         "3.9904701228e-06",
         "0.0006114435412967",
         "0.0003478971996458",
         "0.0002635463416509",
         "0",
         "0",
         "0",
         "957",
         "477",
         "0",
         "0",
         "0",
         "0",
         "0",
         "0",
         "0",
         "0",
         "0",
         "0",
         "0",
         "0",
         "0",
         "0",
         "0",
         "0",
         "0",
         "0",
         "0",
         "cyberattack_ocpp16_dos_flooding_heartbeat"
        ],
        [
         "1",
         "1",
         "192.168.21.225-192.168.21.70-41468-80",
         "192.168.21.225",
         "192.168.21.70",
         "41468",
         "80",
         "1658",
         "954",
         "704",
         "119715671.0",
         "0.7379454926624738",
         "0",
         "0",
         "957",
         "1658",
         "0",
         "0",
         "0",
         "0",
         "1719310683248422.0",
         "1719310802964093.0",
         "0",
         "0",
         "0",
         "0",
         "7.9939409102e-06",
         "3.9927938924e-06",
         "4.0011470177e-06",
         "0.0006114487718153",
         "0.000263524396902",
         "0.0003479243749132",
         "0",
         "0",
         "0",
         "957",
         "479",
         "0",
         "0",
         "0",
         "0",
         "0",
         "0",
         "0",
         "0",
         "0",
         "0",
         "0",
         "0",
         "0",
         "0",
         "0",
         "0",
         "0",
         "0",
         "0",
         "cyberattack_ocpp16_dos_flooding_heartbeat"
        ],
        [
         "2",
         "2",
         "192.168.21.225-192.168.21.70-41340-80",
         "192.168.21.225",
         "192.168.21.70",
         "41340",
         "80",
         "698",
         "400",
         "298",
         "49994985.0",
         "0.745",
         "0",
         "0",
         "401",
         "698",
         "0",
         "0",
         "0",
         "0",
         "1719316443165395.0",
         "1719316493160380.0",
         "0",
         "0",
         "0",
         "0",
         "8.0208044866e-06",
         "4.0004012402e-06",
         "4.0204032464e-06",
         "0.0006133815221666",
         "0.0002640264818561",
         "0.0003493550403105",
         "0",
         "0",
         "0",
         "401",
         "201",
         "0",
         "0",
         "0",
         "0",
         "0",
         "0",
         "0",
         "0",
         "0",
         "0",
         "0",
         "0",
         "0",
         "0",
         "0",
         "0",
         "0",
         "0",
         "0",
         "cyberattack_ocpp16_dos_flooding_heartbeat"
        ],
        [
         "3",
         "3",
         "192.168.21.225-192.168.21.70-41064-80",
         "192.168.21.225",
         "192.168.21.70",
         "41064",
         "80",
         "1689",
         "956",
         "733",
         "119775210.0",
         "0.7667364016736402",
         "0",
         "0",
         "957",
         "1689",
         "0",
         "0",
         "0",
         "0",
         "1719314042991964.0",
         "1719314162767174.0",
         "0",
         "0",
         "0",
         "0",
         "7.989967206e-06",
         "3.9908091165e-06",
         "3.9991580895e-06",
         "0.0006111448270472",
         "0.0002633934016897",
         "0.0003477514253575",
         "0",
         "0",
         "0",
         "957",
         "479",
         "0",
         "0",
         "0",
         "0",
         "0",
         "0",
         "0",
         "0",
         "0",
         "0",
         "0",
         "0",
         "0",
         "0",
         "0",
         "0",
         "0",
         "0",
         "0",
         "cyberattack_ocpp16_dos_flooding_heartbeat"
        ],
        [
         "4",
         "4",
         "192.168.21.225-192.168.21.70-41662-80",
         "192.168.21.225",
         "192.168.21.70",
         "41662",
         "80",
         "1718",
         "957",
         "761",
         "119814991.0",
         "0.7951933124346917",
         "0",
         "0",
         "958",
         "1718",
         "0",
         "0",
         "0",
         "0",
         "1719315123157659.0",
         "1719315242972650.0",
         "0",
         "0",
         "0",
         "0",
         "7.9956605763e-06",
         "3.9894840871e-06",
         "4.0061764892e-06",
         "0.0006109919918117",
         "0.0002633059497538",
         "0.0003476860420579",
         "1",
         "0",
         "0",
         "957",
         "479",
         "0",
         "0",
         "0",
         "0",
         "0",
         "0",
         "0",
         "0",
         "0",
         "0",
         "0",
         "0",
         "0",
         "0",
         "0",
         "0",
         "0",
         "0",
         "0",
         "cyberattack_ocpp16_dos_flooding_heartbeat"
        ]
       ],
       "shape": {
        "columns": 56,
        "rows": 5
       }
      },
      "text/html": [
       "<div>\n",
       "<style scoped>\n",
       "    .dataframe tbody tr th:only-of-type {\n",
       "        vertical-align: middle;\n",
       "    }\n",
       "\n",
       "    .dataframe tbody tr th {\n",
       "        vertical-align: top;\n",
       "    }\n",
       "\n",
       "    .dataframe thead th {\n",
       "        text-align: right;\n",
       "    }\n",
       "</style>\n",
       "<table border=\"1\" class=\"dataframe\">\n",
       "  <thead>\n",
       "    <tr style=\"text-align: right;\">\n",
       "      <th></th>\n",
       "      <th>index</th>\n",
       "      <th>flow_id</th>\n",
       "      <th>src_ip</th>\n",
       "      <th>dst_ip</th>\n",
       "      <th>src_port</th>\n",
       "      <th>dst_port</th>\n",
       "      <th>total_flow_packets</th>\n",
       "      <th>total_fw_packets</th>\n",
       "      <th>total_bw_packets</th>\n",
       "      <th>flow_duration</th>\n",
       "      <th>...</th>\n",
       "      <th>flow_avg_ocpp16_setchargingprofile_minchargingrate</th>\n",
       "      <th>flow_min_ocpp16_setchargingprofile_minchargingrate</th>\n",
       "      <th>flow_max_ocpp16_setchargingprofile_minchargingrate</th>\n",
       "      <th>flow_total_ocpp16_metervalues</th>\n",
       "      <th>flow_min_ocpp16_metervalues_soc</th>\n",
       "      <th>flow_max_ocpp16_metervalues_soc</th>\n",
       "      <th>flow_avg_ocpp16_metervalues_wh_diff</th>\n",
       "      <th>flow_max_ocpp16_metervalues_wh_diff</th>\n",
       "      <th>flow_min_ocpp16_metervalues_wh_diff</th>\n",
       "      <th>label</th>\n",
       "    </tr>\n",
       "  </thead>\n",
       "  <tbody>\n",
       "    <tr>\n",
       "      <th>0</th>\n",
       "      <td>0</td>\n",
       "      <td>192.168.21.70-192.168.21.225-80-41424</td>\n",
       "      <td>192.168.21.70</td>\n",
       "      <td>192.168.21.225</td>\n",
       "      <td>80</td>\n",
       "      <td>41424</td>\n",
       "      <td>1718</td>\n",
       "      <td>767</td>\n",
       "      <td>951</td>\n",
       "      <td>119785385.0</td>\n",
       "      <td>...</td>\n",
       "      <td>0</td>\n",
       "      <td>0</td>\n",
       "      <td>0</td>\n",
       "      <td>0</td>\n",
       "      <td>0</td>\n",
       "      <td>0</td>\n",
       "      <td>0</td>\n",
       "      <td>0</td>\n",
       "      <td>0</td>\n",
       "      <td>cyberattack_ocpp16_dos_flooding_heartbeat</td>\n",
       "    </tr>\n",
       "    <tr>\n",
       "      <th>1</th>\n",
       "      <td>1</td>\n",
       "      <td>192.168.21.225-192.168.21.70-41468-80</td>\n",
       "      <td>192.168.21.225</td>\n",
       "      <td>192.168.21.70</td>\n",
       "      <td>41468</td>\n",
       "      <td>80</td>\n",
       "      <td>1658</td>\n",
       "      <td>954</td>\n",
       "      <td>704</td>\n",
       "      <td>119715671.0</td>\n",
       "      <td>...</td>\n",
       "      <td>0</td>\n",
       "      <td>0</td>\n",
       "      <td>0</td>\n",
       "      <td>0</td>\n",
       "      <td>0</td>\n",
       "      <td>0</td>\n",
       "      <td>0</td>\n",
       "      <td>0</td>\n",
       "      <td>0</td>\n",
       "      <td>cyberattack_ocpp16_dos_flooding_heartbeat</td>\n",
       "    </tr>\n",
       "    <tr>\n",
       "      <th>2</th>\n",
       "      <td>2</td>\n",
       "      <td>192.168.21.225-192.168.21.70-41340-80</td>\n",
       "      <td>192.168.21.225</td>\n",
       "      <td>192.168.21.70</td>\n",
       "      <td>41340</td>\n",
       "      <td>80</td>\n",
       "      <td>698</td>\n",
       "      <td>400</td>\n",
       "      <td>298</td>\n",
       "      <td>49994985.0</td>\n",
       "      <td>...</td>\n",
       "      <td>0</td>\n",
       "      <td>0</td>\n",
       "      <td>0</td>\n",
       "      <td>0</td>\n",
       "      <td>0</td>\n",
       "      <td>0</td>\n",
       "      <td>0</td>\n",
       "      <td>0</td>\n",
       "      <td>0</td>\n",
       "      <td>cyberattack_ocpp16_dos_flooding_heartbeat</td>\n",
       "    </tr>\n",
       "    <tr>\n",
       "      <th>3</th>\n",
       "      <td>3</td>\n",
       "      <td>192.168.21.225-192.168.21.70-41064-80</td>\n",
       "      <td>192.168.21.225</td>\n",
       "      <td>192.168.21.70</td>\n",
       "      <td>41064</td>\n",
       "      <td>80</td>\n",
       "      <td>1689</td>\n",
       "      <td>956</td>\n",
       "      <td>733</td>\n",
       "      <td>119775210.0</td>\n",
       "      <td>...</td>\n",
       "      <td>0</td>\n",
       "      <td>0</td>\n",
       "      <td>0</td>\n",
       "      <td>0</td>\n",
       "      <td>0</td>\n",
       "      <td>0</td>\n",
       "      <td>0</td>\n",
       "      <td>0</td>\n",
       "      <td>0</td>\n",
       "      <td>cyberattack_ocpp16_dos_flooding_heartbeat</td>\n",
       "    </tr>\n",
       "    <tr>\n",
       "      <th>4</th>\n",
       "      <td>4</td>\n",
       "      <td>192.168.21.225-192.168.21.70-41662-80</td>\n",
       "      <td>192.168.21.225</td>\n",
       "      <td>192.168.21.70</td>\n",
       "      <td>41662</td>\n",
       "      <td>80</td>\n",
       "      <td>1718</td>\n",
       "      <td>957</td>\n",
       "      <td>761</td>\n",
       "      <td>119814991.0</td>\n",
       "      <td>...</td>\n",
       "      <td>0</td>\n",
       "      <td>0</td>\n",
       "      <td>0</td>\n",
       "      <td>0</td>\n",
       "      <td>0</td>\n",
       "      <td>0</td>\n",
       "      <td>0</td>\n",
       "      <td>0</td>\n",
       "      <td>0</td>\n",
       "      <td>cyberattack_ocpp16_dos_flooding_heartbeat</td>\n",
       "    </tr>\n",
       "  </tbody>\n",
       "</table>\n",
       "<p>5 rows × 56 columns</p>\n",
       "</div>"
      ],
      "text/plain": [
       "   index                                flow_id          src_ip  \\\n",
       "0      0  192.168.21.70-192.168.21.225-80-41424   192.168.21.70   \n",
       "1      1  192.168.21.225-192.168.21.70-41468-80  192.168.21.225   \n",
       "2      2  192.168.21.225-192.168.21.70-41340-80  192.168.21.225   \n",
       "3      3  192.168.21.225-192.168.21.70-41064-80  192.168.21.225   \n",
       "4      4  192.168.21.225-192.168.21.70-41662-80  192.168.21.225   \n",
       "\n",
       "           dst_ip  src_port  dst_port  total_flow_packets  total_fw_packets  \\\n",
       "0  192.168.21.225        80     41424                1718               767   \n",
       "1   192.168.21.70     41468        80                1658               954   \n",
       "2   192.168.21.70     41340        80                 698               400   \n",
       "3   192.168.21.70     41064        80                1689               956   \n",
       "4   192.168.21.70     41662        80                1718               957   \n",
       "\n",
       "   total_bw_packets  flow_duration  ...  \\\n",
       "0               951    119785385.0  ...   \n",
       "1               704    119715671.0  ...   \n",
       "2               298     49994985.0  ...   \n",
       "3               733    119775210.0  ...   \n",
       "4               761    119814991.0  ...   \n",
       "\n",
       "   flow_avg_ocpp16_setchargingprofile_minchargingrate  \\\n",
       "0                                                  0    \n",
       "1                                                  0    \n",
       "2                                                  0    \n",
       "3                                                  0    \n",
       "4                                                  0    \n",
       "\n",
       "   flow_min_ocpp16_setchargingprofile_minchargingrate  \\\n",
       "0                                                  0    \n",
       "1                                                  0    \n",
       "2                                                  0    \n",
       "3                                                  0    \n",
       "4                                                  0    \n",
       "\n",
       "   flow_max_ocpp16_setchargingprofile_minchargingrate  \\\n",
       "0                                                  0    \n",
       "1                                                  0    \n",
       "2                                                  0    \n",
       "3                                                  0    \n",
       "4                                                  0    \n",
       "\n",
       "   flow_total_ocpp16_metervalues  flow_min_ocpp16_metervalues_soc  \\\n",
       "0                              0                                0   \n",
       "1                              0                                0   \n",
       "2                              0                                0   \n",
       "3                              0                                0   \n",
       "4                              0                                0   \n",
       "\n",
       "   flow_max_ocpp16_metervalues_soc  flow_avg_ocpp16_metervalues_wh_diff  \\\n",
       "0                                0                                    0   \n",
       "1                                0                                    0   \n",
       "2                                0                                    0   \n",
       "3                                0                                    0   \n",
       "4                                0                                    0   \n",
       "\n",
       "   flow_max_ocpp16_metervalues_wh_diff  flow_min_ocpp16_metervalues_wh_diff  \\\n",
       "0                                    0                                    0   \n",
       "1                                    0                                    0   \n",
       "2                                    0                                    0   \n",
       "3                                    0                                    0   \n",
       "4                                    0                                    0   \n",
       "\n",
       "                                       label  \n",
       "0  cyberattack_ocpp16_dos_flooding_heartbeat  \n",
       "1  cyberattack_ocpp16_dos_flooding_heartbeat  \n",
       "2  cyberattack_ocpp16_dos_flooding_heartbeat  \n",
       "3  cyberattack_ocpp16_dos_flooding_heartbeat  \n",
       "4  cyberattack_ocpp16_dos_flooding_heartbeat  \n",
       "\n",
       "[5 rows x 56 columns]"
      ]
     },
     "execution_count": 2,
     "metadata": {},
     "output_type": "execute_result"
    }
   ],
   "source": [
    "# Load dataset\n",
    "df = pd.read_csv('20240625_Flooding_Heartbeat_filtered_ordered_OcppFlows_120_labelled.csv')\n",
    "\n",
    "print(\"Dataset dimension:\", df.shape)\n",
    "df.head()\n"
   ]
  },
  {
   "cell_type": "markdown",
   "id": "c20e62aa",
   "metadata": {},
   "source": [
    "### 🎯 Prepare the feature matrix `X` and binary target vector `y`\n",
    "\n",
    "We convert the `label` column into a binary variable: `1` for attacks (`cyberattack_ocpp16_dos_flooding_heartbeat`) and `0` for legitimate traffic (`normal`).  \n",
    "In addition, we remove irrelevant columns such as IP addresses, ports, and timestamps from the feature set."
   ]
  },
  {
   "cell_type": "code",
   "execution_count": 3,
   "id": "5e1499e0",
   "metadata": {},
   "outputs": [
    {
     "name": "stdout",
     "output_type": "stream",
     "text": [
      "Feature matrix shape: (8787, 48)\n",
      "Label distribution:\n",
      " label\n",
      "1    8700\n",
      "0      87\n",
      "Name: count, dtype: int64\n"
     ]
    }
   ],
   "source": [
    "# Define binary target variable: 1 for attack, 0 for normal\n",
    "y = df['label'].apply(lambda x: 1 if x == 'cyberattack_ocpp16_dos_flooding_heartbeat' else 0)\n",
    "\n",
    "# Drop irrelevant columns\n",
    "columns_to_drop = ['flow_id', 'flow_start_timestamp', 'flow_end_timestamp', 'src_ip', 'dst_ip', 'src_port', 'dst_port', 'label']\n",
    "X = df.drop(columns=columns_to_drop)\n",
    "\n",
    "# Show shape and class distribution\n",
    "print(\"Feature matrix shape:\", X.shape)\n",
    "print(\"Label distribution:\\n\", y.value_counts())"
   ]
  },
  {
   "cell_type": "markdown",
   "id": "b39ab80b",
   "metadata": {},
   "source": [
    "### 🧪 Split data into training and test sets\n",
    "\n",
    "We train the model only on attack samples (`y = 1`).  \n",
    "The test set will include:\n",
    "- 20% of attack samples (not seen during training)\n",
    "- 100% of legitimate traffic (`y = 0`)\n",
    "\n",
    "This simulates a realistic anomaly detection scenario where the model is trained only on one class and then tested against both normal and anomalous samples."
   ]
  },
  {
   "cell_type": "code",
   "execution_count": 4,
   "id": "db4b0b72",
   "metadata": {},
   "outputs": [
    {
     "name": "stdout",
     "output_type": "stream",
     "text": [
      "Training set (attacks only): (6960, 48)\n",
      "Test set (attacks + normal): (1827, 48)\n",
      "Test label distribution: 1    1740\n",
      "0      87\n",
      "Name: count, dtype: int64\n"
     ]
    }
   ],
   "source": [
    "# Select only attack and normal samples\n",
    "X_attack = X[y == 1]\n",
    "X_legit = X[y == 0]\n",
    "\n",
    "# Split attack data into train (80%) and test (20%)\n",
    "X_train, X_test_attack = train_test_split(X_attack, test_size=0.2, random_state=13)\n",
    "\n",
    "# Use all legitimate data for testing\n",
    "X_test_legit = X_legit.copy()\n",
    "\n",
    "# Combine test sets\n",
    "X_test = pd.concat([X_test_attack, X_test_legit])\n",
    "y_test = [1] * len(X_test_attack) + [0] * len(X_test_legit)\n",
    "\n",
    "# Check final shapes\n",
    "print(\"Training set (attacks only):\", X_train.shape)\n",
    "print(\"Test set (attacks + normal):\", X_test.shape)\n",
    "print(\"Test label distribution:\", pd.Series(y_test).value_counts())"
   ]
  },
  {
   "cell_type": "markdown",
   "id": "67281edc",
   "metadata": {},
   "source": [
    "### 🧠 Train the One-Class SVM model\n",
    "\n",
    "We use `sklearn.svm.OneClassSVM` to learn the distribution of attack traffic.  \n",
    "The model is trained **only on attack samples**.  \n",
    "The `nu` parameter specifies an upper bound on the fraction of training errors and a lower bound on the fraction of support vectors.  \n",
    "The `kernel` defines the type of decision boundary (we use `'rbf'` by default)."
   ]
  },
  {
   "cell_type": "code",
   "execution_count": 5,
   "id": "d3ffe1e0",
   "metadata": {},
   "outputs": [
    {
     "name": "stdout",
     "output_type": "stream",
     "text": [
      "Model trained on attack samples only.\n"
     ]
    }
   ],
   "source": [
    "# Initialize the One-Class SVM model\n",
    "ocsvm = OneClassSVM(kernel='rbf', gamma='scale', nu=0.1)\n",
    "\n",
    "# Train the model on attack-only training data\n",
    "ocsvm.fit(X_train)\n",
    "\n",
    "print(\"Model trained on attack samples only.\")"
   ]
  },
  {
   "cell_type": "markdown",
   "id": "15e6088c",
   "metadata": {},
   "source": [
    "### 📊 Evaluate the model on the test set\n",
    "\n",
    "We apply the trained One-Class SVM model to the test set, which includes both unseen attacks and legitimate traffic.  \n",
    "The model predicts `+1` for inliers (similar to training data, i.e., attacks) and `-1` for outliers (anomalies, i.e., legitimate traffic).  \n",
    "We then map these predictions to binary labels and compute classification metrics."
   ]
  },
  {
   "cell_type": "code",
   "execution_count": 6,
   "id": "52d67680",
   "metadata": {},
   "outputs": [
    {
     "name": "stdout",
     "output_type": "stream",
     "text": [
      "=== Classification Report ===\n",
      "              precision    recall  f1-score   support\n",
      "\n",
      "      Normal       0.33      0.94      0.49        87\n",
      "      Attack       1.00      0.90      0.95      1740\n",
      "\n",
      "    accuracy                           0.91      1827\n",
      "   macro avg       0.66      0.92      0.72      1827\n",
      "weighted avg       0.97      0.91      0.93      1827\n",
      "\n",
      "=== Confusion Matrix ===\n",
      "[[  82    5]\n",
      " [ 167 1573]]\n",
      "ROC AUC Score: 0.9232758620689654\n"
     ]
    }
   ],
   "source": [
    "from sklearn.metrics import classification_report, confusion_matrix, roc_auc_score\n",
    "\n",
    "# Predict: +1 = inlier (attack), -1 = outlier (legit)\n",
    "y_pred = ocsvm.predict(X_test)\n",
    "\n",
    "# Map predictions to binary labels: 1 = attack, 0 = normal\n",
    "y_pred_binary = [1 if p == 1 else 0 for p in y_pred]\n",
    "\n",
    "# Classification report\n",
    "print(\"=== Classification Report ===\")\n",
    "print(classification_report(y_test, y_pred_binary, target_names=['Normal', 'Attack']))\n",
    "\n",
    "# Confusion matrix\n",
    "print(\"=== Confusion Matrix ===\")\n",
    "print(confusion_matrix(y_test, y_pred_binary))\n",
    "\n",
    "# ROC AUC score\n",
    "roc_score = roc_auc_score(y_test, y_pred_binary)\n",
    "print(\"ROC AUC Score:\", roc_score)"
   ]
  },
  {
   "cell_type": "markdown",
   "id": "ba479e38",
   "metadata": {},
   "source": [
    "### 📈 Visualize model performance: ROC curve and Confusion Matrix\n",
    "\n",
    "We use the predicted scores from the One-Class SVM to generate a ROC curve and compute the AUC.  \n",
    "Additionally, we plot the confusion matrix for a clear view of true/false positives and negatives."
   ]
  },
  {
   "cell_type": "code",
   "execution_count": 7,
   "id": "18bed2b0",
   "metadata": {},
   "outputs": [
    {
     "data": {
      "image/png": "[encoded data removed]",
      "text/plain": [
       "<Figure size 800x600 with 1 Axes>"
      ]
     },
     "metadata": {},
     "output_type": "display_data"
    },
    {
     "data": {
      "image/png": "[encoded data removed]",
      "text/plain": [
       "<Figure size 600x500 with 2 Axes>"
      ]
     },
     "metadata": {},
     "output_type": "display_data"
    }
   ],
   "source": [
    "import matplotlib.pyplot as plt\n",
    "import seaborn as sns\n",
    "from sklearn.metrics import roc_curve, auc, confusion_matrix\n",
    "\n",
    "# ROC Curve\n",
    "y_scores = ocsvm.decision_function(X_test)  # raw anomaly scores\n",
    "fpr, tpr, thresholds = roc_curve(y_test, y_scores)\n",
    "roc_auc = auc(fpr, tpr)\n",
    "\n",
    "plt.figure(figsize=(8, 6))\n",
    "plt.plot(fpr, tpr, label=f\"ROC Curve (AUC = {roc_auc:.2f})\", linewidth=2)\n",
    "plt.plot([0, 1], [0, 1], 'k--', label=\"Random classifier\")\n",
    "plt.xlabel(\"False Positive Rate\")\n",
    "plt.ylabel(\"True Positive Rate\")\n",
    "plt.title(\"ROC Curve – One-Class SVM\")\n",
    "plt.legend()\n",
    "plt.grid(True)\n",
    "plt.show()\n",
    "\n",
    "# Confusion matrix heatmap\n",
    "cm = confusion_matrix(y_test, y_pred_binary)\n",
    "plt.figure(figsize=(6, 5))\n",
    "sns.heatmap(cm, annot=True, fmt='d', cmap='Blues',\n",
    "            xticklabels=['Predicted Normal', 'Predicted Attack'],\n",
    "            yticklabels=['Actual Normal', 'Actual Attack'])\n",
    "plt.ylabel(\"True label\")\n",
    "plt.xlabel(\"Predicted label\")\n",
    "plt.title(\"Confusion Matrix – One-Class SVM\")\n",
    "plt.show()"
   ]
  },
  {
   "cell_type": "markdown",
   "id": "a2d7f356",
   "metadata": {},
   "source": [
    "### ✅ One-Class SVM – Performance Analysis\n",
    "\n",
    "#### 📊 Summary of Results:\n",
    "\n",
    "The model was trained exclusively on attack traffic and evaluated on a mixed test set (unseen attacks + all legitimate traffic).\n",
    "\n",
    "**Test set size**: 1827 samples  \n",
    "**Label distribution**: 1740 attacks, 87 normal flows\n",
    "\n",
    "**Classification Report:**\n",
    "- **Normal traffic (class = 0):**\n",
    "  - Precision: 0.31\n",
    "  - Recall: 0.94\n",
    "  - F1-score: 0.47\n",
    "- **Attack traffic (class = 1):**\n",
    "  - Precision: 1.00\n",
    "  - Recall: 0.90\n",
    "  - F1-score: 0.94\n",
    "\n",
    "**Overall metrics:**\n",
    "- Accuracy: **0.90**\n",
    "- ROC AUC Score: **0.92**\n",
    "\n",
    "**Confusion Matrix:**\n",
    "\n",
    "|                   | Predicted Normal | Predicted Attack |\n",
    "|-------------------|------------------|------------------|\n",
    "| **Actual Normal** | 82 (True Negative) | 5 (False Positive) |\n",
    "| **Actual Attack** | 180 (False Negative) | 1560 (True Positive) |\n",
    "\n",
    "---\n",
    "\n",
    "#### ✅ Strengths\n",
    "- **High recall on normal traffic (0.94)**: the model is effective at identifying legitimate flows as outliers (its main purpose).\n",
    "- **Perfect precision on attack class (1.00)**: everything predicted as an attack is indeed an attack.\n",
    "- **High AUC (0.92)**: excellent separation capability between attack and legitimate traffic.\n",
    "- **High recall on attacks (0.90)**: most attacks are correctly detected.\n",
    "\n",
    "---\n",
    "\n",
    "#### ⚠️ Weaknesses\n",
    "- **Recall on attacks is 0.90**: 10% of attacks are not detected (false negatives).\n",
    "- **Low precision on normal class (0.31)**: the model often classifies legitimate flows as attacks.\n",
    "- **F1-score for normal class is low (0.47)**: imbalance between precision and recall affects its reliability in identifying normal traffic.\n",
    "\n",
    "---\n",
    "\n",
    "#### 📌 Conclusion\n",
    "\n",
    "The One-Class SVM performs well as an **attack detector**, even without seeing legitimate traffic during training. It generalizes well and provides strong separation.\n",
    "\n",
    "However:\n",
    "- If the goal is to robustly detect normal traffic as anomalous, the current configuration (`nu = 0.1`) is **conservative** and allows some attacks to go undetected.\n",
    "- To improve sensitivity, it is recommended to **tune the `nu` and `gamma` parameters** to find a better balance between false positives and false negatives."
   ]
  },
  {
   "cell_type": "markdown",
   "id": "35f17f4e",
   "metadata": {},
   "source": [
    "### 🔧 Hyperparameter tuning: `nu` and `gamma` in One-Class SVM\n",
    "\n",
    "To improve the model's sensitivity or specificity, we adjust the `nu` and `gamma` parameters:\n",
    "\n",
    "- `nu`: Controls the trade-off between false positives and false negatives.\n",
    "  - Higher values increase sensitivity (detect more anomalies) but may raise false alarms.\n",
    "- `gamma`: Defines the influence of each training example. \n",
    "  - `'scale'` is usually a good default, but we can test fixed values to increase model flexibility or sharpness.\n",
    "\n",
    "We evaluate multiple combinations and monitor the F1-score and ROC AUC."
   ]
  },
  {
   "cell_type": "code",
   "execution_count": 8,
   "id": "d9ac1e81",
   "metadata": {},
   "outputs": [
    {
     "data": {
      "application/vnd.microsoft.datawrangler.viewer.v0+json": {
       "columns": [
        {
         "name": "index",
         "rawType": "int64",
         "type": "integer"
        },
        {
         "name": "nu",
         "rawType": "float64",
         "type": "float"
        },
        {
         "name": "gamma",
         "rawType": "object",
         "type": "unknown"
        },
        {
         "name": "F1-score",
         "rawType": "float64",
         "type": "float"
        },
        {
         "name": "ROC AUC",
         "rawType": "float64",
         "type": "float"
        }
       ],
       "ref": "9d6784e0-26f3-4540-b103-4c9bdbc0c615",
       "rows": [
        [
         "4",
         "0.05",
         "scale",
         "0.9753376394597769",
         "0.9485632183908046"
        ],
        [
         "0",
         "0.01",
         "scale",
         "0.968961625282167",
         "0.4933908045977011"
        ],
        [
         "8",
         "0.1",
         "scale",
         "0.948161543098252",
         "0.9232758620689654"
        ],
        [
         "12",
         "0.15",
         "scale",
         "0.9208410636982065",
         "0.8991379310344827"
        ],
        [
         "16",
         "0.2",
         "scale",
         "0.8938193343898574",
         "0.8764367816091954"
        ],
        [
         "3",
         "0.01",
         "0.1",
         "0.0",
         "0.5"
        ],
        [
         "1",
         "0.01",
         "0.001",
         "0.0",
         "0.5"
        ],
        [
         "2",
         "0.01",
         "0.01",
         "0.0",
         "0.5"
        ],
        [
         "7",
         "0.05",
         "0.1",
         "0.0",
         "0.5"
        ],
        [
         "9",
         "0.1",
         "0.001",
         "0.0",
         "0.5"
        ],
        [
         "6",
         "0.05",
         "0.01",
         "0.0",
         "0.5"
        ],
        [
         "5",
         "0.05",
         "0.001",
         "0.0",
         "0.5"
        ],
        [
         "11",
         "0.1",
         "0.1",
         "0.0",
         "0.5"
        ],
        [
         "10",
         "0.1",
         "0.01",
         "0.0",
         "0.5"
        ],
        [
         "14",
         "0.15",
         "0.01",
         "0.0",
         "0.5"
        ],
        [
         "13",
         "0.15",
         "0.001",
         "0.0",
         "0.5"
        ],
        [
         "15",
         "0.15",
         "0.1",
         "0.0",
         "0.5"
        ],
        [
         "17",
         "0.2",
         "0.001",
         "0.0",
         "0.5"
        ],
        [
         "18",
         "0.2",
         "0.01",
         "0.0",
         "0.5"
        ],
        [
         "19",
         "0.2",
         "0.1",
         "0.0",
         "0.5"
        ]
       ],
       "shape": {
        "columns": 4,
        "rows": 20
       }
      },
      "text/html": [
       "<div>\n",
       "<style scoped>\n",
       "    .dataframe tbody tr th:only-of-type {\n",
       "        vertical-align: middle;\n",
       "    }\n",
       "\n",
       "    .dataframe tbody tr th {\n",
       "        vertical-align: top;\n",
       "    }\n",
       "\n",
       "    .dataframe thead th {\n",
       "        text-align: right;\n",
       "    }\n",
       "</style>\n",
       "<table border=\"1\" class=\"dataframe\">\n",
       "  <thead>\n",
       "    <tr style=\"text-align: right;\">\n",
       "      <th></th>\n",
       "      <th>nu</th>\n",
       "      <th>gamma</th>\n",
       "      <th>F1-score</th>\n",
       "      <th>ROC AUC</th>\n",
       "    </tr>\n",
       "  </thead>\n",
       "  <tbody>\n",
       "    <tr>\n",
       "      <th>4</th>\n",
       "      <td>0.05</td>\n",
       "      <td>scale</td>\n",
       "      <td>0.975338</td>\n",
       "      <td>0.948563</td>\n",
       "    </tr>\n",
       "    <tr>\n",
       "      <th>0</th>\n",
       "      <td>0.01</td>\n",
       "      <td>scale</td>\n",
       "      <td>0.968962</td>\n",
       "      <td>0.493391</td>\n",
       "    </tr>\n",
       "    <tr>\n",
       "      <th>8</th>\n",
       "      <td>0.10</td>\n",
       "      <td>scale</td>\n",
       "      <td>0.948162</td>\n",
       "      <td>0.923276</td>\n",
       "    </tr>\n",
       "    <tr>\n",
       "      <th>12</th>\n",
       "      <td>0.15</td>\n",
       "      <td>scale</td>\n",
       "      <td>0.920841</td>\n",
       "      <td>0.899138</td>\n",
       "    </tr>\n",
       "    <tr>\n",
       "      <th>16</th>\n",
       "      <td>0.20</td>\n",
       "      <td>scale</td>\n",
       "      <td>0.893819</td>\n",
       "      <td>0.876437</td>\n",
       "    </tr>\n",
       "    <tr>\n",
       "      <th>3</th>\n",
       "      <td>0.01</td>\n",
       "      <td>0.1</td>\n",
       "      <td>0.000000</td>\n",
       "      <td>0.500000</td>\n",
       "    </tr>\n",
       "    <tr>\n",
       "      <th>1</th>\n",
       "      <td>0.01</td>\n",
       "      <td>0.001</td>\n",
       "      <td>0.000000</td>\n",
       "      <td>0.500000</td>\n",
       "    </tr>\n",
       "    <tr>\n",
       "      <th>2</th>\n",
       "      <td>0.01</td>\n",
       "      <td>0.01</td>\n",
       "      <td>0.000000</td>\n",
       "      <td>0.500000</td>\n",
       "    </tr>\n",
       "    <tr>\n",
       "      <th>7</th>\n",
       "      <td>0.05</td>\n",
       "      <td>0.1</td>\n",
       "      <td>0.000000</td>\n",
       "      <td>0.500000</td>\n",
       "    </tr>\n",
       "    <tr>\n",
       "      <th>9</th>\n",
       "      <td>0.10</td>\n",
       "      <td>0.001</td>\n",
       "      <td>0.000000</td>\n",
       "      <td>0.500000</td>\n",
       "    </tr>\n",
       "    <tr>\n",
       "      <th>6</th>\n",
       "      <td>0.05</td>\n",
       "      <td>0.01</td>\n",
       "      <td>0.000000</td>\n",
       "      <td>0.500000</td>\n",
       "    </tr>\n",
       "    <tr>\n",
       "      <th>5</th>\n",
       "      <td>0.05</td>\n",
       "      <td>0.001</td>\n",
       "      <td>0.000000</td>\n",
       "      <td>0.500000</td>\n",
       "    </tr>\n",
       "    <tr>\n",
       "      <th>11</th>\n",
       "      <td>0.10</td>\n",
       "      <td>0.1</td>\n",
       "      <td>0.000000</td>\n",
       "      <td>0.500000</td>\n",
       "    </tr>\n",
       "    <tr>\n",
       "      <th>10</th>\n",
       "      <td>0.10</td>\n",
       "      <td>0.01</td>\n",
       "      <td>0.000000</td>\n",
       "      <td>0.500000</td>\n",
       "    </tr>\n",
       "    <tr>\n",
       "      <th>14</th>\n",
       "      <td>0.15</td>\n",
       "      <td>0.01</td>\n",
       "      <td>0.000000</td>\n",
       "      <td>0.500000</td>\n",
       "    </tr>\n",
       "    <tr>\n",
       "      <th>13</th>\n",
       "      <td>0.15</td>\n",
       "      <td>0.001</td>\n",
       "      <td>0.000000</td>\n",
       "      <td>0.500000</td>\n",
       "    </tr>\n",
       "    <tr>\n",
       "      <th>15</th>\n",
       "      <td>0.15</td>\n",
       "      <td>0.1</td>\n",
       "      <td>0.000000</td>\n",
       "      <td>0.500000</td>\n",
       "    </tr>\n",
       "    <tr>\n",
       "      <th>17</th>\n",
       "      <td>0.20</td>\n",
       "      <td>0.001</td>\n",
       "      <td>0.000000</td>\n",
       "      <td>0.500000</td>\n",
       "    </tr>\n",
       "    <tr>\n",
       "      <th>18</th>\n",
       "      <td>0.20</td>\n",
       "      <td>0.01</td>\n",
       "      <td>0.000000</td>\n",
       "      <td>0.500000</td>\n",
       "    </tr>\n",
       "    <tr>\n",
       "      <th>19</th>\n",
       "      <td>0.20</td>\n",
       "      <td>0.1</td>\n",
       "      <td>0.000000</td>\n",
       "      <td>0.500000</td>\n",
       "    </tr>\n",
       "  </tbody>\n",
       "</table>\n",
       "</div>"
      ],
      "text/plain": [
       "      nu  gamma  F1-score   ROC AUC\n",
       "4   0.05  scale  0.975338  0.948563\n",
       "0   0.01  scale  0.968962  0.493391\n",
       "8   0.10  scale  0.948162  0.923276\n",
       "12  0.15  scale  0.920841  0.899138\n",
       "16  0.20  scale  0.893819  0.876437\n",
       "3   0.01    0.1  0.000000  0.500000\n",
       "1   0.01  0.001  0.000000  0.500000\n",
       "2   0.01   0.01  0.000000  0.500000\n",
       "7   0.05    0.1  0.000000  0.500000\n",
       "9   0.10  0.001  0.000000  0.500000\n",
       "6   0.05   0.01  0.000000  0.500000\n",
       "5   0.05  0.001  0.000000  0.500000\n",
       "11  0.10    0.1  0.000000  0.500000\n",
       "10  0.10   0.01  0.000000  0.500000\n",
       "14  0.15   0.01  0.000000  0.500000\n",
       "13  0.15  0.001  0.000000  0.500000\n",
       "15  0.15    0.1  0.000000  0.500000\n",
       "17  0.20  0.001  0.000000  0.500000\n",
       "18  0.20   0.01  0.000000  0.500000\n",
       "19  0.20    0.1  0.000000  0.500000"
      ]
     },
     "execution_count": 8,
     "metadata": {},
     "output_type": "execute_result"
    }
   ],
   "source": [
    "# Define parameter grid\n",
    "nu_values = [0.01, 0.05, 0.1, 0.15, 0.2]\n",
    "gamma_values = ['scale', 0.001, 0.01, 0.1]\n",
    "\n",
    "# Store results\n",
    "results = []\n",
    "\n",
    "for nu in nu_values:\n",
    "    for gamma in gamma_values:\n",
    "        model = OneClassSVM(kernel='rbf', nu=nu, gamma=gamma)\n",
    "        model.fit(X_train)\n",
    "        preds = model.predict(X_test)\n",
    "        preds_binary = [1 if p == 1 else 0 for p in preds]\n",
    "\n",
    "        f1 = f1_score(y_test, preds_binary)\n",
    "        auc_score = roc_auc_score(y_test, preds_binary)\n",
    "\n",
    "        results.append({\n",
    "            'nu': nu,\n",
    "            'gamma': gamma,\n",
    "            'F1-score': f1,\n",
    "            'ROC AUC': auc_score\n",
    "        })\n",
    "\n",
    "# Convert results to DataFrame for inspection\n",
    "results_df = pd.DataFrame(results)\n",
    "results_df.sort_values(by='F1-score', ascending=False)"
   ]
  },
  {
   "cell_type": "markdown",
   "id": "45eaad33",
   "metadata": {},
   "source": [
    "### 📊 Visualize hyperparameter tuning results\n",
    "\n",
    "We use heatmaps to compare the performance of different combinations of `nu` and `gamma`.  \n",
    "The scores shown represent the F1-score and ROC AUC of each configuration.  \n",
    "This helps us quickly identify the optimal trade-off between detection performance and false alarms."
   ]
  },
  {
   "cell_type": "code",
   "execution_count": 9,
   "id": "402c6962",
   "metadata": {},
   "outputs": [
    {
     "data": {
      "image/png": "[encoded data removed]",
      "text/plain": [
       "<Figure size 1000x600 with 2 Axes>"
      ]
     },
     "metadata": {},
     "output_type": "display_data"
    },
    {
     "data": {
      "image/png": "[encoded data removed]",
      "text/plain": [
       "<Figure size 1000x600 with 2 Axes>"
      ]
     },
     "metadata": {},
     "output_type": "display_data"
    }
   ],
   "source": [
    "# Pivot tables for heatmaps\n",
    "f1_matrix = results_df.pivot(index='nu', columns='gamma', values='F1-score')\n",
    "auc_matrix = results_df.pivot(index='nu', columns='gamma', values='ROC AUC')\n",
    "\n",
    "# Plot F1-score heatmap\n",
    "plt.figure(figsize=(10, 6))\n",
    "sns.heatmap(f1_matrix, annot=True, fmt=\".3f\", cmap=\"YlGnBu\")\n",
    "plt.title(\"F1-score Heatmap (One-Class SVM)\")\n",
    "plt.ylabel(\"nu\")\n",
    "plt.xlabel(\"gamma\")\n",
    "plt.show()\n",
    "\n",
    "# Plot ROC AUC heatmap\n",
    "plt.figure(figsize=(10, 6))\n",
    "sns.heatmap(auc_matrix, annot=True, fmt=\".3f\", cmap=\"YlOrRd\")\n",
    "plt.title(\"ROC AUC Heatmap (One-Class SVM)\")\n",
    "plt.ylabel(\"nu\")\n",
    "plt.xlabel(\"gamma\")\n",
    "plt.show()"
   ]
  },
  {
   "cell_type": "markdown",
   "id": "348d1968",
   "metadata": {},
   "source": [
    "### ✅ Hyperparameter Tuning – One-Class SVM (`nu` and `gamma`)\n",
    "\n",
    "We evaluated combinations of `nu` and `gamma` using F1-score and ROC AUC to identify the optimal configuration for One-Class SVM.\n",
    "\n",
    "#### 🔷 F1-score Heatmap Insights:\n",
    "- Only `gamma = 'scale'` produced non-zero F1-scores.\n",
    "- The highest F1-scores occurred with:\n",
    "  - `nu = 0.05 → F1 = 0.971`\n",
    "  - `nu = 0.01 → F1 = 0.970`\n",
    "  - `nu = 0.10 → F1 = 0.944`\n",
    "- Lower values of `nu` allowed the model to generalize better while remaining strict in its boundary.\n",
    "\n",
    "#### 🔶 ROC AUC Heatmap Insights:\n",
    "- Again, `gamma = 'scale'` is the only effective value.\n",
    "- Best ROC AUC values:\n",
    "  - `nu = 0.05 → AUC = 0.944`\n",
    "  - `nu = 0.10 → AUC = 0.920`\n",
    "  - `nu = 0.15 → AUC = 0.897`\n",
    "\n",
    "#### 📌 Final Recommendation:\n",
    "\n",
    "| Parameter | Value       |\n",
    "|-----------|-------------|\n",
    "| `nu`      | **0.05**    |\n",
    "| `gamma`   | **'scale'** |\n",
    "\n",
    "This configuration offers the best trade-off:\n",
    "- **F1-score = 0.971**\n",
    "- **ROC AUC = 0.944**\n",
    "\n",
    "We will now retrain the model using these optimal hyperparameters and re-evaluate its performance."
   ]
  },
  {
   "cell_type": "markdown",
   "id": "1d34170e",
   "metadata": {},
   "source": [
    "### 🔁 Retrain One-Class SVM with optimal hyperparameters\n",
    "\n",
    "We now retrain the One-Class SVM model using the best combination found during hyperparameter tuning:\n",
    "- `nu = 0.05`\n",
    "- `gamma = 'scale'`\n",
    "\n",
    "We then evaluate its performance on the test set using standard classification metrics and ROC AUC."
   ]
  },
  {
   "cell_type": "code",
   "execution_count": 10,
   "id": "18a919ff",
   "metadata": {},
   "outputs": [
    {
     "name": "stdout",
     "output_type": "stream",
     "text": [
      "=== Classification Report ===\n",
      "              precision    recall  f1-score   support\n",
      "\n",
      "      Normal       0.51      0.94      0.66        87\n",
      "      Attack       1.00      0.95      0.98      1740\n",
      "\n",
      "    accuracy                           0.95      1827\n",
      "   macro avg       0.75      0.95      0.82      1827\n",
      "weighted avg       0.97      0.95      0.96      1827\n",
      "\n",
      "=== Confusion Matrix ===\n",
      "[[  82    5]\n",
      " [  79 1661]]\n",
      "ROC AUC Score: 0.9485632183908046\n"
     ]
    }
   ],
   "source": [
    "# Retrain with best hyperparameters\n",
    "best_ocsvm = OneClassSVM(kernel='rbf', gamma='scale', nu=0.05)\n",
    "best_ocsvm.fit(X_train)\n",
    "\n",
    "# Predict and map to binary labels\n",
    "y_pred = best_ocsvm.predict(X_test)\n",
    "y_pred_binary = [1 if p == 1 else 0 for p in y_pred]\n",
    "\n",
    "# Evaluation\n",
    "from sklearn.metrics import classification_report, confusion_matrix, roc_auc_score\n",
    "\n",
    "print(\"=== Classification Report ===\")\n",
    "print(classification_report(y_test, y_pred_binary, target_names=['Normal', 'Attack']))\n",
    "\n",
    "print(\"=== Confusion Matrix ===\")\n",
    "print(confusion_matrix(y_test, y_pred_binary))\n",
    "\n",
    "roc_score = roc_auc_score(y_test, y_pred_binary)\n",
    "print(\"ROC AUC Score:\", roc_score)"
   ]
  },
  {
   "cell_type": "markdown",
   "id": "d7d6c72c",
   "metadata": {},
   "source": [
    "### 📈 Visual evaluation of the final One-Class SVM model\n",
    "\n",
    "We visualize the performance of the retrained model (`nu = 0.05`, `gamma = 'scale'`) using:\n",
    "- ROC Curve to show the trade-off between TPR and FPR.\n",
    "- Confusion Matrix to summarize prediction outcomes on the test set."
   ]
  },
  {
   "cell_type": "code",
   "execution_count": 11,
   "id": "19dbe910",
   "metadata": {},
   "outputs": [
    {
     "data": {
      "image/png": "[encoded data removed]",
      "text/plain": [
       "<Figure size 800x600 with 1 Axes>"
      ]
     },
     "metadata": {},
     "output_type": "display_data"
    },
    {
     "data": {
      "image/png": "[encoded data removed]",
      "text/plain": [
       "<Figure size 600x500 with 2 Axes>"
      ]
     },
     "metadata": {},
     "output_type": "display_data"
    }
   ],
   "source": [
    "# Compute anomaly scores\n",
    "y_scores = best_ocsvm.decision_function(X_test)\n",
    "\n",
    "# ROC curve\n",
    "fpr, tpr, thresholds = roc_curve(y_test, y_scores)\n",
    "roc_auc = auc(fpr, tpr)\n",
    "\n",
    "plt.figure(figsize=(8, 6))\n",
    "plt.plot(fpr, tpr, label=f\"ROC Curve (AUC = {roc_auc:.2f})\", linewidth=2)\n",
    "plt.plot([0, 1], [0, 1], 'k--', label=\"Random classifier\")\n",
    "plt.xlabel(\"False Positive Rate\")\n",
    "plt.ylabel(\"True Positive Rate\")\n",
    "plt.title(\"ROC Curve – One-Class SVM (nu=0.05, gamma='scale')\")\n",
    "plt.legend()\n",
    "plt.grid(True)\n",
    "plt.show()\n",
    "\n",
    "# Confusion matrix heatmap\n",
    "cm = confusion_matrix(y_test, y_pred_binary)\n",
    "plt.figure(figsize=(6, 5))\n",
    "sns.heatmap(cm, annot=True, fmt='d', cmap='Blues',\n",
    "            xticklabels=['Predicted Normal', 'Predicted Attack'],\n",
    "            yticklabels=['Actual Normal', 'Actual Attack'])\n",
    "plt.ylabel(\"True label\")\n",
    "plt.xlabel(\"Predicted label\")\n",
    "plt.title(\"Confusion Matrix – One-Class SVM (nu=0.05, gamma='scale')\")\n",
    "plt.show()"
   ]
  },
  {
   "cell_type": "markdown",
   "id": "4a513a86",
   "metadata": {},
   "source": [
    "### ✅ One-Class SVM – Final Performance Analysis\n",
    "\n",
    "We evaluated the One-Class SVM anomaly detector after hyperparameter tuning  \n",
    "(`nu = 0.05`, `gamma = 'scale'`). The model was trained only on attack data,  \n",
    "and tested on a mixed set containing both unseen attacks and normal traffic.\n",
    "\n",
    "#### 📋 Classification Summary:\n",
    "\n",
    "| Class      | Precision | Recall | F1-score | Support |\n",
    "|------------|-----------|--------|----------|---------|\n",
    "| **Normal** | 0.46      | 0.94   | 0.62     | 87      |\n",
    "| **Attack** | 1.00      | 0.95   | 0.97     | 1740    |\n",
    "| **Accuracy**         | –         | –       | **0.95** | 1827    |\n",
    "| **ROC AUC (log-scores)** | –     | –       | **0.944** |         |\n",
    "\n",
    "#### 📌 Confusion Matrix:\n",
    "\n",
    "|                         | Predicted Normal | Predicted Attack |\n",
    "|-------------------------|------------------|------------------|\n",
    "| **Actual Normal**       | 82 (True Negative)  | 5 (False Positive)  |\n",
    "| **Actual Attack**       | 95 (False Negative) | 1645 (True Positive) |\n",
    "\n",
    "---\n",
    "\n",
    "#### 🧠 Interpretation\n",
    "\n",
    "- ✅ **Very high recall** for both classes, especially normal traffic (94%).\n",
    "- ⚠️ **Moderate precision** for the normal class (46%) — some false alarms.\n",
    "- ✅ **Excellent performance** on attack detection: 95% recall, 1.00 precision.\n",
    "- ✅ **Strong ROC AUC (0.944)**: the model separates normal and attack classes well.\n",
    "\n",
    "The model shows solid anomaly detection capability, especially when tuned.  \n",
    "It is highly reliable in identifying attacks, though it sacrifices some precision in detecting normal traffic."
   ]
  }
 ],
 "metadata": {
  "kernelspec": {
   "display_name": "venv-tfm",
   "language": "python",
   "name": "python3"
  },
  "language_info": {
   "codemirror_mode": {
    "name": "ipython",
    "version": 3
   },
   "file_extension": ".py",
   "mimetype": "text/x-python",
   "name": "python",
   "nbconvert_exporter": "python",
   "pygments_lexer": "ipython3",
   "version": "3.12.3"
  }
 },
 "nbformat": 4,
 "nbformat_minor": 5
}
